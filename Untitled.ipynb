{
 "cells": [
  {
   "cell_type": "code",
   "execution_count": 5,
   "metadata": {},
   "outputs": [],
   "source": [
    "from dataset.dataset import *\n",
    "from torch.utils.data import Dataset, DataLoader\n",
    "import getpass\n",
    "import os\n",
    "import socket\n",
    "import numpy as np\n",
    "from dataset.preprocess_data import *\n",
    "from PIL import Image, ImageFilter\n",
    "import argparse\n",
    "import torch\n",
    "from torch import nn\n",
    "from torch import optim\n",
    "from torch.optim import lr_scheduler\n",
    "from models.model import generate_model\n",
    "from opts import parse_opts\n",
    "from torch.autograd import Variable\n",
    "import time\n",
    "import torch.utils\n",
    "import sys\n",
    "from utils import *\n",
    "import pdb "
   ]
  },
  {
   "cell_type": "code",
   "execution_count": 11,
   "metadata": {},
   "outputs": [
    {
     "name": "stderr",
     "output_type": "stream",
     "text": [
      "usage: ipykernel_launcher.py [-h] [--frame_dir FRAME_DIR]\n",
      "                             [--annotation_path ANNOTATION_PATH]\n",
      "                             [--dataset DATASET] [--split SPLIT]\n",
      "                             [--modality MODALITY]\n",
      "                             [--input_channels INPUT_CHANNELS]\n",
      "                             [--n_classes N_CLASSES]\n",
      "                             [--n_finetune_classes N_FINETUNE_CLASSES]\n",
      "                             [--only_RGB] [--output_layers OUTPUT_LAYERS]\n",
      "                             [--model MODEL] [--model_depth MODEL_DEPTH]\n",
      "                             [--resnet_shortcut RESNET_SHORTCUT]\n",
      "                             [--resnext_cardinality RESNEXT_CARDINALITY]\n",
      "                             [--ft_begin_index FT_BEGIN_INDEX]\n",
      "                             [--sample_size SAMPLE_SIZE]\n",
      "                             [--sample_duration SAMPLE_DURATION] [--training]\n",
      "                             [--freeze_BN] [--batch_size BATCH_SIZE]\n",
      "                             [--n_workers N_WORKERS]\n",
      "                             [--learning_rate LEARNING_RATE]\n",
      "                             [--momentum MOMENTUM] [--dampening DAMPENING]\n",
      "                             [--weight_decay WEIGHT_DECAY] [--nesterov]\n",
      "                             [--optimizer OPTIMIZER]\n",
      "                             [--lr_patience LR_PATIENCE]\n",
      "                             [--MARS_alpha MARS_ALPHA] [--n_epochs N_EPOCHS]\n",
      "                             [--begin_epoch BEGIN_EPOCH]\n",
      "                             [--result_path RESULT_PATH] [--MARS]\n",
      "                             [--pretrain_path PRETRAIN_PATH]\n",
      "                             [--MARS_pretrain_path MARS_PRETRAIN_PATH]\n",
      "                             [--MARS_resume_path MARS_RESUME_PATH]\n",
      "                             [--resume_path1 RESUME_PATH1]\n",
      "                             [--resume_path2 RESUME_PATH2]\n",
      "                             [--resume_path3 RESUME_PATH3] [--log LOG]\n",
      "                             [--checkpoint CHECKPOINT]\n",
      "                             [--manual_seed MANUAL_SEED]\n",
      "                             [--random_seed RANDOM_SEED]\n",
      "ipykernel_launcher.py: error: unrecognized arguments: -f /home/jupyter/.local/share/jupyter/runtime/kernel-3295a242-0186-4cbc-869c-1b7774db1213.json\n"
     ]
    },
    {
     "ename": "SystemExit",
     "evalue": "2",
     "output_type": "error",
     "traceback": [
      "An exception has occurred, use %tb to see the full traceback.\n",
      "\u001b[0;31mSystemExit\u001b[0m\u001b[0;31m:\u001b[0m 2\n"
     ]
    },
    {
     "name": "stderr",
     "output_type": "stream",
     "text": [
      "/usr/local/lib/python3.5/dist-packages/IPython/core/interactiveshell.py:3334: UserWarning: To exit: use 'exit', 'quit', or Ctrl-D.\n",
      "  warn(\"To exit: use 'exit', 'quit', or Ctrl-D.\", stacklevel=1)\n"
     ]
    }
   ],
   "source": [
    "opt = parse_opts()\n",
    "opt.batch_size=1 \n",
    "opt.n_classes=8 \n",
    "opt.model='resnext' \n",
    "opt.model_depth=101 \n",
    "opt.dataset='UCF101' \n",
    "opt.modality='RGB' \n",
    "opt.sample_duration=16 \n",
    "opt.split=1 \n",
    "opt.only_RGB=true  \n",
    "opt.resume_path1=\"/home/jupyter/Data_Drive/HammadTest/result_8_cls_kinetics_pre/result_8_class/UCF101/PreKin_UCF101_1_RGB_train_batch32_sample112_clip16_nestFalse_damp0.9_weight_decay1e-05_manualseed1_modelresnext101_ftbeginidx4_varLR80.pth\" \n",
    "opt.frame_dir=\"/home/jupyter/Data_Drive/HammadTest/14cls/10ClassesExtract/\" \n",
    "opt.annotation_path=\"/home/jupyter/Data_Drive/HammadTest/label_8/\" \n",
    "opt.result_path= \"/home/jupyter/Data_Drive/14cls/results/\"\n",
    "opt.arch = '{}-{}'.format(opt.model, opt.model_depth)\n",
    "data   = globals()['{}_test'.format(opt.dataset)](split = opt.split, train = 0, opt = opt)\n",
    "if opt.modality=='RGB': opt.input_channels = 3\n",
    "val_dataloader = DataLoader(data, batch_size = 1, shuffle=False, num_workers = opt.n_workers, pin_memory = True, drop_last=False)\n",
    "print(\"Length of validation datatloader = \",len(val_dataloader))"
   ]
  },
  {
   "cell_type": "code",
   "execution_count": null,
   "metadata": {},
   "outputs": [],
   "source": []
  },
  {
   "cell_type": "code",
   "execution_count": null,
   "metadata": {},
   "outputs": [],
   "source": []
  }
 ],
 "metadata": {
  "kernelspec": {
   "display_name": "Python 3",
   "language": "python",
   "name": "python3"
  },
  "language_info": {
   "codemirror_mode": {
    "name": "ipython",
    "version": 3
   },
   "file_extension": ".py",
   "mimetype": "text/x-python",
   "name": "python",
   "nbconvert_exporter": "python",
   "pygments_lexer": "ipython3",
   "version": "3.5.3"
  }
 },
 "nbformat": 4,
 "nbformat_minor": 4
}
